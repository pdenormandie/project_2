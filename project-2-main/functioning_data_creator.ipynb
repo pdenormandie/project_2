{
 "cells": [
  {
   "cell_type": "code",
   "execution_count": 1,
   "id": "6c2f110f-a10c-4c3e-9c7f-3d5394c21cfa",
   "metadata": {},
   "outputs": [],
   "source": [
    "import numpy as np\n",
    "import pandas as pd\n",
    "import matplotlib.pyplot as plt\n",
    "from mpl_toolkits.mplot3d import Axes3D\n",
    "import yfinance as yf"
   ]
  },
  {
   "cell_type": "code",
   "execution_count": 2,
   "id": "36c3bed1-aaec-4045-a84a-a1fde487327e",
   "metadata": {},
   "outputs": [],
   "source": [
    "from sklearn.datasets import load_iris\n",
    "from sklearn.decomposition import PCA"
   ]
  },
  {
   "cell_type": "code",
   "execution_count": 3,
   "id": "48093bd9-4277-4f13-b722-ed45a5665685",
   "metadata": {},
   "outputs": [],
   "source": [
    "adbe = 'ADBE'"
   ]
  },
  {
   "cell_type": "code",
   "execution_count": 4,
   "id": "3dc0cb09-bbd6-4526-8d59-f8b70fdce029",
   "metadata": {},
   "outputs": [
    {
     "name": "stdout",
     "output_type": "stream",
     "text": [
      "[*********************100%***********************]  1 of 1 completed\n"
     ]
    }
   ],
   "source": [
    "adbe_df = yf.download(adbe)"
   ]
  },
  {
   "cell_type": "code",
   "execution_count": 5,
   "id": "f83ed038-034f-4e77-b95d-8345e45b2c57",
   "metadata": {},
   "outputs": [],
   "source": [
    "adbe_df['Returns'] = adbe_df[\"Adj Close\"].pct_change()"
   ]
  },
  {
   "cell_type": "code",
   "execution_count": 6,
   "id": "7a50555b-225f-428b-a17f-0b9b64fd208f",
   "metadata": {},
   "outputs": [],
   "source": [
    "adbe_df.drop([\"Open\",\"High\", \"Low\", \"Close\", \"Adj Close\", \"Volume\"], axis=1, inplace=True)"
   ]
  },
  {
   "cell_type": "code",
   "execution_count": 7,
   "id": "e980aa83-b871-48e3-b406-4f174d7875ed",
   "metadata": {},
   "outputs": [
    {
     "data": {
      "text/html": [
       "<div>\n",
       "<style scoped>\n",
       "    .dataframe tbody tr th:only-of-type {\n",
       "        vertical-align: middle;\n",
       "    }\n",
       "\n",
       "    .dataframe tbody tr th {\n",
       "        vertical-align: top;\n",
       "    }\n",
       "\n",
       "    .dataframe thead th {\n",
       "        text-align: right;\n",
       "    }\n",
       "</style>\n",
       "<table border=\"1\" class=\"dataframe\">\n",
       "  <thead>\n",
       "    <tr style=\"text-align: right;\">\n",
       "      <th></th>\n",
       "      <th>Returns</th>\n",
       "    </tr>\n",
       "    <tr>\n",
       "      <th>Date</th>\n",
       "      <th></th>\n",
       "    </tr>\n",
       "  </thead>\n",
       "  <tbody>\n",
       "    <tr>\n",
       "      <th>1986-08-13</th>\n",
       "      <td>NaN</td>\n",
       "    </tr>\n",
       "    <tr>\n",
       "      <th>1986-08-14</th>\n",
       "      <td>0.055552</td>\n",
       "    </tr>\n",
       "    <tr>\n",
       "      <th>1986-08-15</th>\n",
       "      <td>-0.017543</td>\n",
       "    </tr>\n",
       "    <tr>\n",
       "      <th>1986-08-18</th>\n",
       "      <td>-0.035712</td>\n",
       "    </tr>\n",
       "    <tr>\n",
       "      <th>1986-08-19</th>\n",
       "      <td>0.018517</td>\n",
       "    </tr>\n",
       "    <tr>\n",
       "      <th>...</th>\n",
       "      <td>...</td>\n",
       "    </tr>\n",
       "    <tr>\n",
       "      <th>2022-06-21</th>\n",
       "      <td>0.006098</td>\n",
       "    </tr>\n",
       "    <tr>\n",
       "      <th>2022-06-22</th>\n",
       "      <td>0.006446</td>\n",
       "    </tr>\n",
       "    <tr>\n",
       "      <th>2022-06-23</th>\n",
       "      <td>0.030958</td>\n",
       "    </tr>\n",
       "    <tr>\n",
       "      <th>2022-06-24</th>\n",
       "      <td>0.029418</td>\n",
       "    </tr>\n",
       "    <tr>\n",
       "      <th>2022-06-27</th>\n",
       "      <td>-0.015849</td>\n",
       "    </tr>\n",
       "  </tbody>\n",
       "</table>\n",
       "<p>9041 rows × 1 columns</p>\n",
       "</div>"
      ],
      "text/plain": [
       "             Returns\n",
       "Date                \n",
       "1986-08-13       NaN\n",
       "1986-08-14  0.055552\n",
       "1986-08-15 -0.017543\n",
       "1986-08-18 -0.035712\n",
       "1986-08-19  0.018517\n",
       "...              ...\n",
       "2022-06-21  0.006098\n",
       "2022-06-22  0.006446\n",
       "2022-06-23  0.030958\n",
       "2022-06-24  0.029418\n",
       "2022-06-27 -0.015849\n",
       "\n",
       "[9041 rows x 1 columns]"
      ]
     },
     "execution_count": 7,
     "metadata": {},
     "output_type": "execute_result"
    }
   ],
   "source": [
    "adbe_df"
   ]
  },
  {
   "cell_type": "code",
   "execution_count": 8,
   "id": "fd670a75-5ce0-4029-afde-0b30c23e9657",
   "metadata": {},
   "outputs": [],
   "source": [
    "adbe_df = adbe_df.reset_index(drop=True).dropna()"
   ]
  },
  {
   "cell_type": "code",
   "execution_count": 9,
   "id": "10fc75cb-52b0-44e4-a9f4-8aa04f37c88e",
   "metadata": {},
   "outputs": [],
   "source": [
    "\n",
    "\n",
    "adbe_df2 = adbe_df * adbe_df\n",
    "\n",
    "result = pd.concat([adbe_df, adbe_df, adbe_df], axis=1)"
   ]
  },
  {
   "cell_type": "code",
   "execution_count": 10,
   "id": "1e1e45dd-b7f0-45ed-9497-3871050b7aec",
   "metadata": {},
   "outputs": [
    {
     "data": {
      "text/html": [
       "<div>\n",
       "<style scoped>\n",
       "    .dataframe tbody tr th:only-of-type {\n",
       "        vertical-align: middle;\n",
       "    }\n",
       "\n",
       "    .dataframe tbody tr th {\n",
       "        vertical-align: top;\n",
       "    }\n",
       "\n",
       "    .dataframe thead th {\n",
       "        text-align: right;\n",
       "    }\n",
       "</style>\n",
       "<table border=\"1\" class=\"dataframe\">\n",
       "  <thead>\n",
       "    <tr style=\"text-align: right;\">\n",
       "      <th></th>\n",
       "      <th>Returns</th>\n",
       "      <th>Returns</th>\n",
       "      <th>Returns</th>\n",
       "    </tr>\n",
       "  </thead>\n",
       "  <tbody>\n",
       "    <tr>\n",
       "      <th>1</th>\n",
       "      <td>0.055552</td>\n",
       "      <td>0.055552</td>\n",
       "      <td>0.055552</td>\n",
       "    </tr>\n",
       "    <tr>\n",
       "      <th>2</th>\n",
       "      <td>-0.017543</td>\n",
       "      <td>-0.017543</td>\n",
       "      <td>-0.017543</td>\n",
       "    </tr>\n",
       "    <tr>\n",
       "      <th>3</th>\n",
       "      <td>-0.035712</td>\n",
       "      <td>-0.035712</td>\n",
       "      <td>-0.035712</td>\n",
       "    </tr>\n",
       "    <tr>\n",
       "      <th>4</th>\n",
       "      <td>0.018517</td>\n",
       "      <td>0.018517</td>\n",
       "      <td>0.018517</td>\n",
       "    </tr>\n",
       "    <tr>\n",
       "      <th>5</th>\n",
       "      <td>0.000000</td>\n",
       "      <td>0.000000</td>\n",
       "      <td>0.000000</td>\n",
       "    </tr>\n",
       "    <tr>\n",
       "      <th>...</th>\n",
       "      <td>...</td>\n",
       "      <td>...</td>\n",
       "      <td>...</td>\n",
       "    </tr>\n",
       "    <tr>\n",
       "      <th>9036</th>\n",
       "      <td>0.006098</td>\n",
       "      <td>0.006098</td>\n",
       "      <td>0.006098</td>\n",
       "    </tr>\n",
       "    <tr>\n",
       "      <th>9037</th>\n",
       "      <td>0.006446</td>\n",
       "      <td>0.006446</td>\n",
       "      <td>0.006446</td>\n",
       "    </tr>\n",
       "    <tr>\n",
       "      <th>9038</th>\n",
       "      <td>0.030958</td>\n",
       "      <td>0.030958</td>\n",
       "      <td>0.030958</td>\n",
       "    </tr>\n",
       "    <tr>\n",
       "      <th>9039</th>\n",
       "      <td>0.029418</td>\n",
       "      <td>0.029418</td>\n",
       "      <td>0.029418</td>\n",
       "    </tr>\n",
       "    <tr>\n",
       "      <th>9040</th>\n",
       "      <td>-0.015849</td>\n",
       "      <td>-0.015849</td>\n",
       "      <td>-0.015849</td>\n",
       "    </tr>\n",
       "  </tbody>\n",
       "</table>\n",
       "<p>9040 rows × 3 columns</p>\n",
       "</div>"
      ],
      "text/plain": [
       "       Returns   Returns   Returns\n",
       "1     0.055552  0.055552  0.055552\n",
       "2    -0.017543 -0.017543 -0.017543\n",
       "3    -0.035712 -0.035712 -0.035712\n",
       "4     0.018517  0.018517  0.018517\n",
       "5     0.000000  0.000000  0.000000\n",
       "...        ...       ...       ...\n",
       "9036  0.006098  0.006098  0.006098\n",
       "9037  0.006446  0.006446  0.006446\n",
       "9038  0.030958  0.030958  0.030958\n",
       "9039  0.029418  0.029418  0.029418\n",
       "9040 -0.015849 -0.015849 -0.015849\n",
       "\n",
       "[9040 rows x 3 columns]"
      ]
     },
     "execution_count": 10,
     "metadata": {},
     "output_type": "execute_result"
    }
   ],
   "source": [
    "result"
   ]
  },
  {
   "cell_type": "code",
   "execution_count": 11,
   "id": "b1f2a398-6aa9-43dc-80bd-3ec61e05634a",
   "metadata": {},
   "outputs": [],
   "source": [
    "iris = result\n"
   ]
  },
  {
   "cell_type": "code",
   "execution_count": null,
   "id": "62919f75-f432-42a4-82ad-1f8d11b6cd32",
   "metadata": {},
   "outputs": [],
   "source": []
  },
  {
   "cell_type": "code",
   "execution_count": 12,
   "id": "23032b43-444e-4d72-b961-a22a9fbe97d2",
   "metadata": {},
   "outputs": [],
   "source": [
    "x_reduced = PCA(n_components=3).fit_transform(iris)"
   ]
  },
  {
   "cell_type": "code",
   "execution_count": null,
   "id": "3c0da092-3d7f-4676-86c4-5c1551c6a8b6",
   "metadata": {},
   "outputs": [],
   "source": []
  },
  {
   "cell_type": "code",
   "execution_count": 13,
   "id": "16d6b3d5-dc13-42f4-a47a-88c7eee1009b",
   "metadata": {},
   "outputs": [
    {
     "name": "stderr",
     "output_type": "stream",
     "text": [
      "/Users/pdenormandie/opt/anaconda3/envs/dev/lib/python3.7/site-packages/ipykernel_launcher.py:2: MatplotlibDeprecationWarning: Axes3D(fig) adding itself to the figure is deprecated since 3.4. Pass the keyword argument auto_add_to_figure=False and use fig.add_axes(ax) to suppress this warning. The default value of auto_add_to_figure will change to False in mpl3.5 and True values will no longer work in 3.6.  This is consistent with other Axes classes.\n",
      "  \n"
     ]
    },
    {
     "data": {
      "text/plain": [
       "<mpl_toolkits.mplot3d.art3d.Path3DCollection at 0x7fc635f89810>"
      ]
     },
     "execution_count": 13,
     "metadata": {},
     "output_type": "execute_result"
    },
    {
     "data": {
      "image/png": "[encoded data removed]",
      "text/plain": [
       "<Figure size 432x288 with 1 Axes>"
      ]
     },
     "metadata": {
      "needs_background": "light"
     },
     "output_type": "display_data"
    }
   ],
   "source": [
    "fig = plt.figure()\n",
    "axes = Axes3D(fig)\n",
    "axes.set_title(\"Iris Dataset by PCA\", size=14)\n",
    "axes.set_xlabel(\"First eigenvector\")\n",
    "axes.set_ylabel(\"Second eigenvector\")\n",
    "axes.set_zlabel(\"Third eigenvector\")\n",
    "axes.w_xaxis.set_ticklabels(())\n",
    "axes.w_yaxis.set_ticklabels(())\n",
    "axes.w_zaxis.set_ticklabels(())\n",
    "axes.scatter(x_reduced[:,0],x_reduced[:,1],x_reduced[:,2])"
   ]
  },
  {
   "cell_type": "code",
   "execution_count": 14,
   "id": "955ddd72-15bc-4a00-87f5-a76e4a7b21d5",
   "metadata": {},
   "outputs": [
    {
     "name": "stdout",
     "output_type": "stream",
     "text": [
      "Populating the interactive namespace from numpy and matplotlib\n"
     ]
    },
    {
     "name": "stderr",
     "output_type": "stream",
     "text": [
      "/Users/pdenormandie/opt/anaconda3/envs/dev/lib/python3.7/site-packages/IPython/core/magics/pylab.py:160: UserWarning: pylab import has clobbered these variables: ['pylab', 'axes']\n",
      "`%matplotlib` prevents importing * from pylab and numpy\n",
      "  \"\\n`%matplotlib` prevents importing * from pylab and numpy\"\n",
      "/Users/pdenormandie/opt/anaconda3/envs/dev/lib/python3.7/site-packages/sklearn/manifold/_t_sne.py:783: FutureWarning: The default initialization in TSNE will change from 'random' to 'pca' in 1.2.\n",
      "  FutureWarning,\n",
      "/Users/pdenormandie/opt/anaconda3/envs/dev/lib/python3.7/site-packages/sklearn/manifold/_t_sne.py:793: FutureWarning: The default learning rate in TSNE will change from 200.0 to 'auto' in 1.2.\n",
      "  FutureWarning,\n"
     ]
    },
    {
     "data": {
      "image/png": "[encoded data removed]",
      "text/plain": [
       "<Figure size 432x288 with 1 Axes>"
      ]
     },
     "metadata": {
      "needs_background": "light"
     },
     "output_type": "display_data"
    }
   ],
   "source": [
    "# imports from matplotlib import pyplot as plt\n",
    "from matplotlib import pyplot as plt\n",
    "import pylab\n",
    "from mpl_toolkits.mplot3d import Axes3D\n",
    "from mpl_toolkits.mplot3d import proj3d\n",
    "%matplotlib inline\n",
    "%pylab inline\n",
    "\n",
    "from sklearn.manifold import TSNE\n",
    "from sklearn.decomposition import PCA\n",
    "\n",
    "\n",
    "\n",
    "\n",
    "\n",
    "#TSNE(3)\n",
    "data = TSNE(n_components=3, random_state=0).fit_transform(iris)\n",
    "x, y, z = list(zip(*data))\n",
    "\n",
    "fig = pylab.figure()\n",
    "ax = fig.add_subplot(111, projection = '3d')\n",
    "sc = ax.scatter(x, y, z)\n",
    "\n",
    "\n",
    "\n",
    "\n"
   ]
  },
  {
   "cell_type": "code",
   "execution_count": 26,
   "id": "cc78da74-b411-4a25-8883-768cbc3dbfcc",
   "metadata": {},
   "outputs": [],
   "source": [
    "import numpy as np\n",
    "\n",
    "a = np.random.randint(0,5, size=(100,100,100))\n",
    "a = a.astype('int8')\n",
    "\n",
    "import imageio\n",
    "imageio.mimwrite(\"image.tiff\", a)\n",
    "n = len(a)\n",
    "for i in range(n):\n",
    "    imageio.imwrite(f'image_{i:03}.tiff', a[i])"
   ]
  },
  {
   "cell_type": "code",
   "execution_count": 16,
   "id": "25951b69-72e3-4ccb-8db5-7af7d036f9e6",
   "metadata": {},
   "outputs": [
    {
     "ename": "SyntaxError",
     "evalue": "invalid syntax (660093012.py, line 3)",
     "output_type": "error",
     "traceback": [
      "\u001b[0;36m  File \u001b[0;32m\"/var/folders/8_/m4hvzw7s2g5g2hkh5nlr3x900000gn/T/ipykernel_11573/660093012.py\"\u001b[0;36m, line \u001b[0;32m3\u001b[0m\n\u001b[0;31m    nib.save(ni_img, \"dicom_volume_image.nii\")a\u001b[0m\n\u001b[0m                                              ^\u001b[0m\n\u001b[0;31mSyntaxError\u001b[0m\u001b[0;31m:\u001b[0m invalid syntax\n"
     ]
    }
   ],
   "source": []
  },
  {
   "cell_type": "code",
   "execution_count": null,
   "id": "aaa43ce2-e7c6-4424-b3fb-d609dcb51388",
   "metadata": {},
   "outputs": [],
   "source": []
  },
  {
   "cell_type": "code",
   "execution_count": null,
   "id": "095de200-6b0f-48b6-8757-8f0cdd5ed4f9",
   "metadata": {},
   "outputs": [],
   "source": []
  },
  {
   "cell_type": "code",
   "execution_count": null,
   "id": "0d04c409-f7f1-4caf-85e6-6fbf4ca530cc",
   "metadata": {},
   "outputs": [],
   "source": []
  },
  {
   "cell_type": "code",
   "execution_count": null,
   "id": "65963002-192e-4273-9c82-449dc1032bb3",
   "metadata": {},
   "outputs": [],
   "source": []
  },
  {
   "cell_type": "code",
   "execution_count": null,
   "id": "d88d5a29-b512-44e9-a698-cecd1b8973ae",
   "metadata": {},
   "outputs": [],
   "source": []
  },
  {
   "cell_type": "code",
   "execution_count": null,
   "id": "7654a24a-ed9a-4b59-96db-6237a3f30a7d",
   "metadata": {},
   "outputs": [],
   "source": []
  },
  {
   "cell_type": "code",
   "execution_count": null,
   "id": "ba4d1db5-8388-48c3-ae77-c66ca38cd55c",
   "metadata": {},
   "outputs": [],
   "source": []
  },
  {
   "cell_type": "code",
   "execution_count": null,
   "id": "0ebe51b0-130e-4bd2-8fe1-58be119d322d",
   "metadata": {},
   "outputs": [],
   "source": []
  },
  {
   "cell_type": "code",
   "execution_count": null,
   "id": "7c221eea-4fac-4d07-98b3-2d58de22b9a5",
   "metadata": {},
   "outputs": [],
   "source": []
  },
  {
   "cell_type": "code",
   "execution_count": null,
   "id": "ae1a31da-6713-4989-951f-2685ae595f2b",
   "metadata": {},
   "outputs": [],
   "source": []
  }
 ],
 "metadata": {
  "kernelspec": {
   "display_name": "dev",
   "language": "python",
   "name": "dev"
  },
  "language_info": {
   "codemirror_mode": {
    "name": "ipython",
    "version": 3
   },
   "file_extension": ".py",
   "mimetype": "text/x-python",
   "name": "python",
   "nbconvert_exporter": "python",
   "pygments_lexer": "ipython3",
   "version": "3.7.11"
  }
 },
 "nbformat": 4,
 "nbformat_minor": 5
}
