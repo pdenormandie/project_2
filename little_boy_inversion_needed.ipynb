{
  "cells": [
    {
      "cell_type": "code",
      "execution_count": null,
      "metadata": {
        "id": "kCorev_EMJ5x"
      },
      "outputs": [],
      "source": [
        "!pip install yfinance pandas-ta vectorbt plotly scipy scikit-image opencv-python --quiet"
      ]
    },
    {
      "cell_type": "code",
      "execution_count": null,
      "metadata": {
        "id": "4tEBT4trL-Zz"
      },
      "outputs": [],
      "source": [
        "import numpy as np\n",
        "import pandas as pd\n",
        "import matplotlib.pyplot as plt\n",
        "from mpl_toolkits.mplot3d import Axes3D\n",
        "import yfinance as yf"
      ]
    },
    {
      "cell_type": "code",
      "execution_count": null,
      "metadata": {
        "id": "yxuxwhioMGw5"
      },
      "outputs": [],
      "source": [
        "from sklearn.decomposition import PCA"
      ]
    },
    {
      "cell_type": "code",
      "execution_count": null,
      "metadata": {
        "id": "pNusO4E3MQOD"
      },
      "outputs": [],
      "source": [
        "def columns_tolower_snake_case(df):\n",
        "    df.columns = [column.lower().replace(\" \", \"_\") for column in df.columns]"
      ]
    },
    {
      "cell_type": "code",
      "execution_count": null,
      "metadata": {
        "colab": {
          "base_uri": "https://localhost:8080/",
          "height": 305
        },
        "id": "HamC7DbLM6H6",
        "outputId": "2a4cf21d-8938-4e93-bcd2-cd49d7ac38d2"
      },
      "outputs": [
        {
          "name": "stdout",
          "output_type": "stream",
          "text": [
            "[*********************100%***********************]  1 of 1 completed\n"
          ]
        }
      ],
      "source": [
        "adbe_df = yf.download(\"ADBE\")"
      ]
    },
    {
      "cell_type": "code",
      "execution_count": null,
      "metadata": {
        "id": "JwSeUlt0MP7S"
      },
      "outputs": [],
      "source": [
        "adbe_df['Returns'] = adbe_df[\"Adj Close\"].pct_change()"
      ]
    },
    {
      "cell_type": "code",
      "execution_count": null,
      "metadata": {
        "id": "RrWhp3jTM_Cu"
      },
      "outputs": [],
      "source": [
        "adbe_df.drop([\"Open\",\"High\", \"Low\", \"Close\", \"Adj Close\", \"Volume\"], axis=1, inplace=True)"
      ]
    },
    {
      "cell_type": "code",
      "execution_count": null,
      "metadata": {
        "id": "oCCAAAdvNA-u",
        "outputId": "d0624a6c-9342-44c3-a288-a7a6dc65d56a"
      },
      "outputs": [
        {
          "data": {
            "text/html": [
              "<div>\n",
              "<style scoped>\n",
              "    .dataframe tbody tr th:only-of-type {\n",
              "        vertical-align: middle;\n",
              "    }\n",
              "\n",
              "    .dataframe tbody tr th {\n",
              "        vertical-align: top;\n",
              "    }\n",
              "\n",
              "    .dataframe thead th {\n",
              "        text-align: right;\n",
              "    }\n",
              "</style>\n",
              "<table border=\"1\" class=\"dataframe\">\n",
              "  <thead>\n",
              "    <tr style=\"text-align: right;\">\n",
              "      <th></th>\n",
              "      <th>Returns</th>\n",
              "    </tr>\n",
              "    <tr>\n",
              "      <th>Date</th>\n",
              "      <th></th>\n",
              "    </tr>\n",
              "  </thead>\n",
              "  <tbody>\n",
              "    <tr>\n",
              "      <th>1986-08-13</th>\n",
              "      <td>NaN</td>\n",
              "    </tr>\n",
              "    <tr>\n",
              "      <th>1986-08-14</th>\n",
              "      <td>0.055552</td>\n",
              "    </tr>\n",
              "    <tr>\n",
              "      <th>1986-08-15</th>\n",
              "      <td>-0.017543</td>\n",
              "    </tr>\n",
              "    <tr>\n",
              "      <th>1986-08-18</th>\n",
              "      <td>-0.035712</td>\n",
              "    </tr>\n",
              "    <tr>\n",
              "      <th>1986-08-19</th>\n",
              "      <td>0.018518</td>\n",
              "    </tr>\n",
              "    <tr>\n",
              "      <th>...</th>\n",
              "      <td>...</td>\n",
              "    </tr>\n",
              "    <tr>\n",
              "      <th>2022-06-27</th>\n",
              "      <td>-0.017152</td>\n",
              "    </tr>\n",
              "    <tr>\n",
              "      <th>2022-06-28</th>\n",
              "      <td>-0.040517</td>\n",
              "    </tr>\n",
              "    <tr>\n",
              "      <th>2022-06-29</th>\n",
              "      <td>0.007849</td>\n",
              "    </tr>\n",
              "    <tr>\n",
              "      <th>2022-06-30</th>\n",
              "      <td>-0.006621</td>\n",
              "    </tr>\n",
              "    <tr>\n",
              "      <th>2022-07-01</th>\n",
              "      <td>0.006611</td>\n",
              "    </tr>\n",
              "  </tbody>\n",
              "</table>\n",
              "<p>9045 rows × 1 columns</p>\n",
              "</div>"
            ],
            "text/plain": [
              "             Returns\n",
              "Date                \n",
              "1986-08-13       NaN\n",
              "1986-08-14  0.055552\n",
              "1986-08-15 -0.017543\n",
              "1986-08-18 -0.035712\n",
              "1986-08-19  0.018518\n",
              "...              ...\n",
              "2022-06-27 -0.017152\n",
              "2022-06-28 -0.040517\n",
              "2022-06-29  0.007849\n",
              "2022-06-30 -0.006621\n",
              "2022-07-01  0.006611\n",
              "\n",
              "[9045 rows x 1 columns]"
            ]
          },
          "execution_count": 7,
          "metadata": {},
          "output_type": "execute_result"
        }
      ],
      "source": [
        "adbe_df"
      ]
    },
    {
      "cell_type": "code",
      "execution_count": null,
      "metadata": {
        "id": "NbqRG3lANDV-"
      },
      "outputs": [],
      "source": [
        "adbe_df.reset_index(drop=True, inplace=True)\n",
        "adbe_df.dropna(inplace=True)"
      ]
    },
    {
      "cell_type": "code",
      "execution_count": null,
      "metadata": {
        "id": "OrB0M1n7NOsC"
      },
      "outputs": [],
      "source": [
        "adbe_df2 = adbe_df * adbe_df\n",
        "\n",
        "result = pd.concat([adbe_df, adbe_df, adbe_df], axis=1)"
      ]
    },
    {
      "cell_type": "code",
      "execution_count": null,
      "metadata": {
        "id": "YZfsUOffNQ6M",
        "outputId": "d2fa4391-c5ee-4d76-8289-2ef004ee417c"
      },
      "outputs": [
        {
          "data": {
            "text/html": [
              "<div>\n",
              "<style scoped>\n",
              "    .dataframe tbody tr th:only-of-type {\n",
              "        vertical-align: middle;\n",
              "    }\n",
              "\n",
              "    .dataframe tbody tr th {\n",
              "        vertical-align: top;\n",
              "    }\n",
              "\n",
              "    .dataframe thead th {\n",
              "        text-align: right;\n",
              "    }\n",
              "</style>\n",
              "<table border=\"1\" class=\"dataframe\">\n",
              "  <thead>\n",
              "    <tr style=\"text-align: right;\">\n",
              "      <th></th>\n",
              "      <th>Returns</th>\n",
              "      <th>Returns</th>\n",
              "      <th>Returns</th>\n",
              "    </tr>\n",
              "  </thead>\n",
              "  <tbody>\n",
              "    <tr>\n",
              "      <th>1</th>\n",
              "      <td>0.055552</td>\n",
              "      <td>0.055552</td>\n",
              "      <td>0.055552</td>\n",
              "    </tr>\n",
              "    <tr>\n",
              "      <th>2</th>\n",
              "      <td>-0.017543</td>\n",
              "      <td>-0.017543</td>\n",
              "      <td>-0.017543</td>\n",
              "    </tr>\n",
              "    <tr>\n",
              "      <th>3</th>\n",
              "      <td>-0.035712</td>\n",
              "      <td>-0.035712</td>\n",
              "      <td>-0.035712</td>\n",
              "    </tr>\n",
              "    <tr>\n",
              "      <th>4</th>\n",
              "      <td>0.018518</td>\n",
              "      <td>0.018518</td>\n",
              "      <td>0.018518</td>\n",
              "    </tr>\n",
              "    <tr>\n",
              "      <th>5</th>\n",
              "      <td>0.000000</td>\n",
              "      <td>0.000000</td>\n",
              "      <td>0.000000</td>\n",
              "    </tr>\n",
              "    <tr>\n",
              "      <th>...</th>\n",
              "      <td>...</td>\n",
              "      <td>...</td>\n",
              "      <td>...</td>\n",
              "    </tr>\n",
              "    <tr>\n",
              "      <th>9040</th>\n",
              "      <td>-0.017152</td>\n",
              "      <td>-0.017152</td>\n",
              "      <td>-0.017152</td>\n",
              "    </tr>\n",
              "    <tr>\n",
              "      <th>9041</th>\n",
              "      <td>-0.040517</td>\n",
              "      <td>-0.040517</td>\n",
              "      <td>-0.040517</td>\n",
              "    </tr>\n",
              "    <tr>\n",
              "      <th>9042</th>\n",
              "      <td>0.007849</td>\n",
              "      <td>0.007849</td>\n",
              "      <td>0.007849</td>\n",
              "    </tr>\n",
              "    <tr>\n",
              "      <th>9043</th>\n",
              "      <td>-0.006621</td>\n",
              "      <td>-0.006621</td>\n",
              "      <td>-0.006621</td>\n",
              "    </tr>\n",
              "    <tr>\n",
              "      <th>9044</th>\n",
              "      <td>0.006611</td>\n",
              "      <td>0.006611</td>\n",
              "      <td>0.006611</td>\n",
              "    </tr>\n",
              "  </tbody>\n",
              "</table>\n",
              "<p>9044 rows × 3 columns</p>\n",
              "</div>"
            ],
            "text/plain": [
              "       Returns   Returns   Returns\n",
              "1     0.055552  0.055552  0.055552\n",
              "2    -0.017543 -0.017543 -0.017543\n",
              "3    -0.035712 -0.035712 -0.035712\n",
              "4     0.018518  0.018518  0.018518\n",
              "5     0.000000  0.000000  0.000000\n",
              "...        ...       ...       ...\n",
              "9040 -0.017152 -0.017152 -0.017152\n",
              "9041 -0.040517 -0.040517 -0.040517\n",
              "9042  0.007849  0.007849  0.007849\n",
              "9043 -0.006621 -0.006621 -0.006621\n",
              "9044  0.006611  0.006611  0.006611\n",
              "\n",
              "[9044 rows x 3 columns]"
            ]
          },
          "execution_count": 10,
          "metadata": {},
          "output_type": "execute_result"
        }
      ],
      "source": [
        "result\n"
      ]
    },
    {
      "cell_type": "code",
      "execution_count": null,
      "metadata": {
        "id": "U33dnqqFNXVs"
      },
      "outputs": [],
      "source": [
        "x_reduced = PCA(n_components=3).fit_transform(result)\n"
      ]
    },
    {
      "cell_type": "code",
      "execution_count": null,
      "metadata": {
        "id": "HMoIiXZJNap9",
        "outputId": "a52ef4b6-c1fb-4f69-bd36-e003cfae593a"
      },
      "outputs": [
        {
          "name": "stderr",
          "output_type": "stream",
          "text": [
            "/var/folders/ys/j9bjqvyn1ys323bhx0h6l40r0000gn/T/ipykernel_8179/4229617598.py:2: MatplotlibDeprecationWarning: Axes3D(fig) adding itself to the figure is deprecated since 3.4. Pass the keyword argument auto_add_to_figure=False and use fig.add_axes(ax) to suppress this warning. The default value of auto_add_to_figure will change to False in mpl3.5 and True values will no longer work in 3.6.  This is consistent with other Axes classes.\n",
            "  axes = Axes3D(fig)\n"
          ]
        },
        {
          "data": {
            "text/plain": [
              "<mpl_toolkits.mplot3d.art3d.Path3DCollection at 0x156cc11f0>"
            ]
          },
          "execution_count": 12,
          "metadata": {},
          "output_type": "execute_result"
        },
        {
          "data": {
            "image/png": "[encoded data removed]",
            "text/plain": [
              "<Figure size 432x288 with 1 Axes>"
            ]
          },
          "metadata": {
            "needs_background": "light"
          },
          "output_type": "display_data"
        }
      ],
      "source": [
        "fig = plt.figure()\n",
        "axes = Axes3D(fig)\n",
        "axes.set_title(\"ADBE by PCA\", size=14)\n",
        "axes.scatter(x_reduced[:,0],x_reduced[:,1],x_reduced[:,2])"
      ]
    },
    {
      "cell_type": "code",
      "execution_count": null,
      "metadata": {
        "colab": {
          "base_uri": "https://localhost:8080/",
          "height": 520
        },
        "id": "iIEad97pNeLP",
        "outputId": "d9c19139-65bc-4b90-c3c2-2ab2c9bb6e46"
      },
      "outputs": [
        {
          "name": "stderr",
          "output_type": "stream",
          "text": [
            "/opt/homebrew/Caskroom/miniforge/base/envs/project2_env/lib/python3.8/site-packages/sklearn/manifold/_t_sne.py:795: FutureWarning: The default initialization in TSNE will change from 'random' to 'pca' in 1.2.\n",
            "  warnings.warn(\n",
            "/opt/homebrew/Caskroom/miniforge/base/envs/project2_env/lib/python3.8/site-packages/sklearn/manifold/_t_sne.py:805: FutureWarning: The default learning rate in TSNE will change from 200.0 to 'auto' in 1.2.\n",
            "  warnings.warn(\n"
          ]
        },
        {
          "data": {
            "image/png": "[encoded data removed]",
            "text/plain": [
              "<Figure size 1024x1536 with 1 Axes>"
            ]
          },
          "metadata": {
            "needs_background": "light"
          },
          "output_type": "display_data"
        }
      ],
      "source": [
        "# imports from matplotlib import pyplot as plt\n",
        "\n",
        "import matplotlib\n",
        "from matplotlib import pyplot as plt\n",
        "\n",
        "from mpl_toolkits.mplot3d import Axes3D\n",
        "from mpl_toolkits.mplot3d import proj3d\n",
        "\n",
        "\n",
        "from sklearn.manifold import TSNE\n",
        "from sklearn.decomposition import PCA\n",
        "\n",
        "\n",
        "\n",
        "\n",
        "#TSNE(3)\n",
        "data = TSNE(n_components=3, random_state=0).fit_transform(x_reduced)\n",
        "x, y, z = list(zip(*data))\n",
        "\n",
        "fig = matplotlib.pyplot.figure(dpi=256)\n",
        "somefunc=fig.get_size_inches()\n",
        "fig.set_figheight(6)\n",
        "fig.set_figwidth(4)\n",
        "ax = fig.add_subplot(111, projection = '3d')\n",
        "ax.scatter(x, y, z)\n",
        "plt.axis(\"off\")\n",
        "fig.savefig(\"adbe.png\")"
      ]
    },
    {
      "cell_type": "code",
      "execution_count": null,
      "metadata": {
        "id": "Ue6xc7FUWbuF"
      },
      "outputs": [],
      "source": [
        "def plot_slices(num_rows, num_columns, width, height, data):\n",
        "    \"\"\"Plot a montage of 20 CT slices\"\"\"\n",
        "    data = np.reshape(data, ((6 * 256), (4 * 256),3,1))\n",
        "    data = np.rot90(data)\n",
        "    data = np.transpose(data)\n",
        "    rows_data, columns_data = data.shape[0], data.shape[1]\n",
        "    heights = [slc[0].shape[0] for slc in data]\n",
        "    widths = [slc.shape[1] for slc in data[0]]\n",
        "    fig_width = 6.0\n",
        "    fig_height = fig_width * sum(heights) / sum(widths)\n",
        "    f, axarr = plt.subplots(\n",
        "        rows_data,\n",
        "        columns_data,\n",
        "        figsize=(fig_width, fig_height),\n",
        "        gridspec_kw={\"height_ratios\": heights},\n",
        "    )\n",
        "    for i in range(int(rows_data)):\n",
        "        for j in range(int(columns_data)):\n",
        "            axarr[i].imshow(data[i][j], cmap=\"gray\")\n",
        "            axarr[i].axis(\"off\")\n",
        "\n",
        "    plt.subplots_adjust(wspace=0, hspace=0, left=0, right=1, bottom=0, top=1)\n",
        "    plt.axis(\"off\")\n",
        "#     plt.show()\n",
        "#     HTML(f.to_html().show())\n"
      ]
    },
    {
      "cell_type": "code",
      "execution_count": null,
      "metadata": {
        "id": "MZZ4y0DlWgaY"
      },
      "outputs": [],
      "source": [
        "# import numpy as np\n",
        "# import imageio\n",
        "# import math\n",
        "# from pprint import pprint\n",
        "# from scipy.ndimage import geometric_transform\n",
        "# images = []\n",
        "# def shift_func(output_coordinates):\n",
        "#     return (output_coordinates[0] - 0.5, output_coordinates[1] - 0.5)\n",
        "\n",
        "# for n in range(0, 100):\n",
        "#     if n >= 4 / 90:\n",
        "#         ax.azim = ax.azim+1.1\n",
        "#     fig.canvas.draw()\n",
        "#     image = np.frombuffer(fig.canvas.tostring_rgb(), dtype='uint8')\n",
        "#     image = geometric_transform(image, shift_func)\n",
        "#     image = image.reshape(image, ((6 * 256), (4 * 256),3))\n",
        "#     image = np.rot90(image)\n",
        "#     image = np.transpose(image)\n",
        "#     display(plot_slices(math.floor(math.sqrt(6*256)), \n",
        "#                         math.floor(math.sqrt(4*256)), \n",
        "#                         (6 * 256), \n",
        "#                         (4 * 256), \n",
        "#                         image))\n",
        "#     images.append(image)\n",
        "#     imageio.imsave(f'adbe_image_{n}.png', image)\n",
        "\n",
        "    \n",
        "# imageio.mimsave(\"adbe.gif\", images)"
      ]
    },
    {
      "cell_type": "code",
      "execution_count": null,
      "metadata": {
        "id": "ZAQWlmwIPoOK"
      },
      "outputs": [],
      "source": [
        "# def remove_parallel_pixels(imarr):\n",
        "    "
      ]
    },
    {
      "cell_type": "code",
      "execution_count": null,
      "metadata": {
        "id": "CxjxVoUpPoOK",
        "outputId": "6649c0a3-7429-4cc3-9741-a1bef4002aac"
      },
      "outputs": [
        {
          "name": "stdout",
          "output_type": "stream",
          "text": [
            "(1536, 1024, 3, 1)\n",
            "HEIGHT 1536\n",
            "WIDTH 1024\n",
            "DIMENSION 3\n",
            "array([[255],\n",
            "       [255],\n",
            "       [255]], dtype=uint8)\n",
            "DIMENSION 4\n",
            "array([255], dtype=uint8)\n"
          ]
        }
      ],
      "source": [
        "import numpy as np\n",
        "import random\n",
        "import imageio\n",
        "import math\n",
        "from pprint import pprint\n",
        "from scipy import ndimage\n",
        "from scipy.ndimage import geometric_transform\n",
        "images = []\n",
        "def shift_func(output_coordinates):\n",
        "    return (output_coordinates[0] - 0.5, output_coordinates[1] - 0.5)\n",
        "\n",
        "\n",
        "# def \n",
        "\n",
        "for n in range(0,\n",
        "               #number\n",
        "               1\n",
        "              ):\n",
        "    fig.canvas.draw()\n",
        "    image = np.frombuffer(fig.canvas.tostring_rgb(), dtype='uint8')\n",
        "\n",
        "#     non_white_parallel_pixels = 0 \n",
        "#     non_white_pixels= 0\n",
        "    \n",
        "#     white_parallel_pixels= 0\n",
        "#     white_pixels= 0\n",
        "    \n",
        "#     print(len(image)/4)\n",
        "#     upper_left = [0,0]\n",
        "#     upper_right = [0, (len(image)/4)]\n",
        "#     upper_left = [0,]\n",
        "#     upper_right = [0, (len(image)/4)]\n",
        "    \n",
        "\n",
        "#     print(random.choice(image))\n",
        "    \n",
        "#     new_image =[]\n",
        "#     for i in range(len(image)):\n",
        "#         if image[i] == 255 and image[i+1] == 255:\n",
        "#             continue\n",
        "#         elif image[i] == 255 and image[i+1] != 255:\n",
        "#             new_image.append(image[i])\n",
        "#         else:\n",
        "#             new_image.append(image[i])\n",
        "\n",
        "#     if mylist = banana:\n",
        "      \n",
        "#     else:\n",
        "        \n",
        "        \n",
        "#     print(new_image)\n",
        "\n",
        "    \n",
        "    image_array = np.reshape(image, ((6 * 256), (4 * 256),3,1))\n",
        "    print(image_array.shape)\n",
        "    print(\"HEIGHT\", len(image_array))\n",
        "    print(\"WIDTH\", len(image_array[0]))\n",
        "    \n",
        "    print(\"DIMENSION 3\")\n",
        "    pprint(image_array[0][0])\n",
        "    \n",
        "    print(\"DIMENSION 4\")\n",
        "    pprint(image_array[0][0][0])\n",
        "#     non_white_pixels = np.reshape(non_white_pixels, ((6 * 256), (4 * 256),3))\n",
        "#     non_white_pixels = np.reshape(non_white_pixels, ((6 * 256), (4 * 256),1))\n",
        "\n",
        "\n",
        "    \n",
        "#     plt.imshow(non_white_pixels)\n",
        "#     markers = np.zeros_like(image).astype(np.int16)\n",
        "#     markers[0] = 1\n",
        "#     markers[200] = 2\n",
        "#     markers[350] = 3\n",
        "#     markers[260] = 4\n",
        "#     res1 = ndimage.watershed_ift(image.astype(np.uint8), markers)\n",
        "#     plt.imshow(res1, cmap='jet')\n",
        "#     image = geometric_transform(image, shift_func)\n",
        "#     pprint(image)\n",
        "#     display(plot_slices(math.floor(math.sqrt(6*256)), \n",
        "#                         math.floor(math.sqrt(4*256)), \n",
        "#                         (6 * 256), \n",
        "#                         (4 * 256), \n",
        "#                         image))"
      ]
    },
    {
      "cell_type": "code",
      "execution_count": null,
      "metadata": {
        "id": "Y7bLNRspNkxz"
      },
      "outputs": [],
      "source": [
        "#!kill -9 -1"
      ]
    },
    {
      "cell_type": "code",
      "execution_count": null,
      "metadata": {
        "id": "DU14cWLKNlT3"
      },
      "outputs": [],
      "source": [
        "# rng = np.random.default_rng()\n",
        "im3d = np.random.randint(100, 1000, 1000, np.uint16)\n",
        "from skimage import morphology\n",
        "from scipy import ndimage as ndi\n",
        "from scipy.ndimage import watershed_ift\n",
        "seeds = ndi.label(im3d < 0.1)[0]\n",
        "ws = watershed_ift(im3d, seeds)"
      ]
    },
    {
      "cell_type": "code",
      "execution_count": null,
      "metadata": {
        "id": "5ug43WJ8PoOL"
      },
      "outputs": [],
      "source": [
        "# from skimage import segmentation\n",
        "# slics = segmentation.slic(im3d, spacing=[5, 1, 1], channel_axis=None)"
      ]
    },
    {
      "cell_type": "code",
      "execution_count": null,
      "metadata": {
        "id": "xv7iJBx-PoOL",
        "outputId": "84357f9d-54cd-460c-d038-080d8c652290"
      },
      "outputs": [
        {
          "data": {
            "text/plain": [
              "True"
            ]
          },
          "execution_count": 21,
          "metadata": {},
          "output_type": "execute_result"
        }
      ],
      "source": [
        "import numpy as np\n",
        "import cv2\n",
        "from matplotlib import pyplot as plt\n",
        "\n",
        "img = cv2.imread('adbe.png')\n",
        "gray = cv2.cvtColor(img,cv2.COLOR_BGR2GRAY)\n",
        "ret, thresh = cv2.threshold(gray,0,255,cv2.THRESH_BINARY_INV+cv2.THRESH_OTSU)\n",
        "cv2.imwrite(\"thresh.png\",thresh)"
      ]
    },
    {
      "cell_type": "code",
      "execution_count": null,
      "metadata": {
        "id": "9rFWKQLRPoOM",
        "outputId": "713fa364-6e67-42ac-f898-7d4d78d89c72"
      },
      "outputs": [
        {
          "data": {
            "text/plain": [
              "177.0"
            ]
          },
          "execution_count": 22,
          "metadata": {},
          "output_type": "execute_result"
        }
      ],
      "source": [
        "ret"
      ]
    },
    {
      "cell_type": "code",
      "execution_count": null,
      "metadata": {
        "id": "XRLxlzw2PoOM"
      },
      "outputs": [],
      "source": [
        ""
      ]
    },
    {
      "cell_type": "code",
      "execution_count": null,
      "metadata": {
        "id": "rkCbIWlLPoOM"
      },
      "outputs": [],
      "source": [
        "image = cv2.imread('thresh.png')\n",
        "cv2.imshow('thresh.png', image)\n"
      ]
    },
    {
      "cell_type": "code",
      "execution_count": null,
      "metadata": {
        "id": "GNw5HmKGPoOM"
      },
      "outputs": [],
      "source": [
        "imgheight = img.shape[0]\n",
        "imgwidth = img.shape[1]"
      ]
    },
    {
      "cell_type": "code",
      "execution_count": null,
      "metadata": {
        "id": "iZ3AvCK8PoOM",
        "outputId": "b7b9adf3-4cd4-4fe2-f433-88c2f884743e"
      },
      "outputs": [
        {
          "data": {
            "text/plain": [
              "True"
            ]
          },
          "execution_count": 25,
          "metadata": {},
          "output_type": "execute_result"
        }
      ],
      "source": [
        "canny = cv2.Canny(img,100,200)\n",
        "cv2.imwrite(\"canny.png\",canny)"
      ]
    },
    {
      "cell_type": "code",
      "execution_count": null,
      "metadata": {
        "id": "o1R92VOMPoOM"
      },
      "outputs": [],
      "source": [
        "cv2.imshow('canny.png', canny)\n"
      ]
    },
    {
      "cell_type": "code",
      "execution_count": null,
      "metadata": {
        "id": "RcBvkeaUPoON"
      },
      "outputs": [],
      "source": [
        "M = 76\n",
        "\n",
        "N = 104\n",
        "\n",
        "x1 = 0\n",
        "\n",
        "y1 = 0\n",
        "for y in range(0, imgheight, M):\n",
        "\n",
        "    for x in range(0, imgwidth, N):\n",
        "\n",
        "        if (imgheight - y) < M or (imgwidth - x) < N:\n",
        "\n",
        "            break\n",
        "\n",
        "\n",
        "\n",
        "        y1 = y + M\n",
        "\n",
        "        x1 = x + N\n",
        "\n",
        "\n",
        "\n",
        "        # check whether the patch width or height exceeds the image width or height\n",
        "\n",
        "        if x1 >= imgwidth and y1 >= imgheight:\n",
        "\n",
        "            x1 = imgwidth - 1\n",
        "\n",
        "            y1 = imgheight - 1\n",
        "\n",
        "            #Crop into patches of size MxN\n",
        "\n",
        "            tiles = canny[y:y+M, x:x+N]\n",
        "\n",
        "            #Save each patch into file directory\n",
        "\n",
        "            cv2.imwrite('./saved_patches/'+'tile'+str(x)+'_'+str(y)+'.jpg', tiles)\n",
        "\n",
        "            cv2.rectangle(img, (x, y), (x1, y1), (0, 255, 0), 1)\n",
        "\n",
        "        elif y1 >= imgheight: # when patch height exceeds the image height\n",
        "\n",
        "            y1 = imgheight - 1\n",
        "\n",
        "            #Crop into patches of size MxN\n",
        "\n",
        "            tiles = canny[y:y+M, x:x+N]\n",
        "\n",
        "            #Save each patch into file directory\n",
        "\n",
        "            cv2.imwrite('./saved_patches/'+'tile'+str(x)+'_'+str(y)+'.jpg', tiles)\n",
        "\n",
        "            cv2.rectangle(img, (x, y), (x1, y1), (0, 255, 0), 1)\n",
        "\n",
        "        elif x1 >= imgwidth: # when patch width exceeds the image width\n",
        "\n",
        "            x1 = imgwidth - 1\n",
        "\n",
        "            #Crop into patches of size MxN\n",
        "\n",
        "            tiles = canny[y:y+M, x:x+N]\n",
        "\n",
        "            #Save each patch into file directory\n",
        "\n",
        "            cv2.imwrite('./saved_patches/'+'tile'+str(x)+'_'+str(y)+'.jpg', tiles)\n",
        "\n",
        "            cv2.rectangle(img, (x, y), (x1, y1), (0, 255, 0), 1)\n",
        "\n",
        "        else:\n",
        "\n",
        "            #Crop into patches of size MxN\n",
        "\n",
        "            tiles = canny[y:y+M, x:x+N]\n",
        "\n",
        "            #Save each patch into file directory\n",
        "\n",
        "            cv2.imwrite('./saved_patches/'+'tile'+str(x)+'_'+str(y)+'.jpg', tiles)\n",
        "\n",
        "            cv2.rectangle(img, (x, y), (x1, y1), (0, 255, 0), 1)"
      ]
    },
    {
      "cell_type": "code",
      "execution_count": null,
      "metadata": {
        "id": "UB2R_BiFPoON"
      },
      "outputs": [],
      "source": [
        ""
      ]
    },
    {
      "cell_type": "code",
      "execution_count": null,
      "metadata": {
        "id": "nAJ_NyjtPoON"
      },
      "outputs": [],
      "source": [
        ""
      ]
    }
  ],
  "metadata": {
    "colab": {
      "name": "little_boy_inversion_needed.ipynb",
      "provenance": []
    },
    "kernelspec": {
      "display_name": "Python 3 (ipykernel)",
      "language": "python",
      "name": "python3"
    },
    "language_info": {
      "codemirror_mode": {
        "name": "ipython",
        "version": 3
      },
      "file_extension": ".py",
      "mimetype": "text/x-python",
      "name": "python",
      "nbconvert_exporter": "python",
      "pygments_lexer": "ipython3",
      "version": "3.8.13"
    }
  },
  "nbformat": 4,
  "nbformat_minor": 0
}